{
 "cells": [
  {
   "cell_type": "code",
   "execution_count": 1,
   "id": "2cb7af24",
   "metadata": {},
   "outputs": [
    {
     "name": "stderr",
     "output_type": "stream",
     "text": [
      "Using TensorFlow backend.\n"
     ]
    }
   ],
   "source": [
    "from PIL import Image\n",
    "import os, glob, numpy as np\n",
    "import os\n",
    "from sklearn.model_selection import train_test_split\n",
    "import os, glob, numpy as np\n",
    "from keras.models import Sequential\n",
    "from keras.layers import Conv2D, MaxPooling2D, Dense, Flatten, Dropout\n",
    "from keras.callbacks import EarlyStopping, ModelCheckpoint\n",
    "\n",
    "import keras.backend.tensorflow_backend as K\n",
    "from keras.preprocessing.image import img_to_array, load_img, array_to_img\n",
    "import tensorflow as tf\n",
    "from keras.preprocessing.image import ImageDataGenerator\n"
   ]
  },
  {
   "cell_type": "code",
   "execution_count": 2,
   "id": "89564db1",
   "metadata": {},
   "outputs": [
    {
     "ename": "SyntaxError",
     "evalue": "unexpected EOF while parsing (<ipython-input-2-56bb5b797887>, line 16)",
     "output_type": "error",
     "traceback": [
      "\u001b[1;36m  File \u001b[1;32m\"<ipython-input-2-56bb5b797887>\"\u001b[1;36m, line \u001b[1;32m16\u001b[0m\n\u001b[1;33m    save_format='jpg'):\u001b[0m\n\u001b[1;37m                       ^\u001b[0m\n\u001b[1;31mSyntaxError\u001b[0m\u001b[1;31m:\u001b[0m unexpected EOF while parsing\n"
     ]
    }
   ],
   "source": [
    "def IDG(fname): #파일이름을 변수로 받는 ImageDataGenerator함수\n",
    "    ImageDG = ImageDataGenerator(    rescale = 1. / 255,\n",
    "                                     rotation_range=15, # 무작위 회전의 각도 범위\n",
    "                                     width_shift_range=0.1, # 수평방향 범위내 이미지 이동\n",
    "                                     height_shift_range = 0.1, # 수직방향 범위내 이미지 이동\n",
    "                                     horizontal_flip=True, # 무작위 가로뒤집기\n",
    "                                      zoom_range = 0.1,   # 무작위 확대/축소 범위\n",
    "                                     fill_mode='nearest') # 인풋 경계의 바깥공간 채우는 방식\n",
    "    img = tf.keras.preprocessing.image.load_img(fname) # 이미지파일로 변환\n",
    "    x = img_to_array(img)\n",
    "    x = x.reshape((1,) + x.shape)\n",
    "    i=0\n",
    "    save = fname.split('/')[0] + \"/\" + fname.split('/')[1]+ \"/\" + fname.split('/')[2] + \"/\" + fname.split('/')[3] \n",
    "\n",
    "    for batch in ImageDG.flow(x, batch_size=1, save_to_dir = save, save_prefix='new'+(file_name_freq),\n",
    "                                      save_format='jpg'):"
   ]
  },
  {
   "cell_type": "code",
   "execution_count": 13,
   "id": "1c67a1f8",
   "metadata": {},
   "outputs": [
    {
     "ename": "IndentationError",
     "evalue": "expected an indented block (<ipython-input-13-45815e741f92>, line 16)",
     "output_type": "error",
     "traceback": [
      "\u001b[1;36m  File \u001b[1;32m\"<ipython-input-13-45815e741f92>\"\u001b[1;36m, line \u001b[1;32m16\u001b[0m\n\u001b[1;33m    i=i+1\u001b[0m\n\u001b[1;37m    ^\u001b[0m\n\u001b[1;31mIndentationError\u001b[0m\u001b[1;31m:\u001b[0m expected an indented block\n"
     ]
    }
   ],
   "source": [
    "def IDG(fname): #파일이름을 변수로 받는 ImageDataGenerator함수\n",
    "    ImageDG = ImageDataGenerator(    rescale = 1. / 255,\n",
    "                                     rotation_range=15, # 무작위 회전의 각도 범위\n",
    "                                     width_shift_range=0.1, # 수평방향 범위내 이미지 이동\n",
    "                                     height_shift_range = 0.1, # 수직방향 범위내 이미지 이동\n",
    "                                     horizontal_flip=True, # 무작위 가로뒤집기\n",
    "                                      zoom_range = 0.1,   # 무작위 확대/축소 범위\n",
    "                                     fill_mode='nearest') # 인풋 경계의 바깥공간 채우는 방식\n",
    "    img = tf.keras.preprocessing.image.load_img(fname) # 이미지파일로 변환\n",
    "    x = img_to_array(img)\n",
    "    x = x.reshape((1,) + x.shape)\n",
    "    i=0\n",
    "    save = fname.split('/')[0] + \"/\" + fname.split('/')[1]+ \"/\" + fname.split('/')[2] + \"/\" + fname.split('/')[3] # 생성된 파일 저장경로\n",
    "    for batch in ImageDG.flow(x, batch_size=1, save_to_dir = save, save_prefix='new'+str(file_name_freq),\n",
    "                                      save_format='jpg'):\n",
    "    i=i+1\n",
    "    if i>7: # 새로 생성되는 데이터 개수 정해주기\n",
    "            break\n"
   ]
  },
  {
   "cell_type": "code",
   "execution_count": null,
   "id": "45ce9e9d",
   "metadata": {},
   "outputs": [],
   "source": []
  },
  {
   "cell_type": "code",
   "execution_count": null,
   "id": "f33a0b4b",
   "metadata": {},
   "outputs": [],
   "source": []
  },
  {
   "cell_type": "code",
   "execution_count": null,
   "id": "0ae09147",
   "metadata": {},
   "outputs": [],
   "source": []
  },
  {
   "cell_type": "code",
   "execution_count": null,
   "id": "8857936a",
   "metadata": {},
   "outputs": [],
   "source": []
  }
 ],
 "metadata": {
  "kernelspec": {
   "display_name": "Python 3",
   "language": "python",
   "name": "python3"
  },
  "language_info": {
   "codemirror_mode": {
    "name": "ipython",
    "version": 3
   },
   "file_extension": ".py",
   "mimetype": "text/x-python",
   "name": "python",
   "nbconvert_exporter": "python",
   "pygments_lexer": "ipython3",
   "version": "3.7.13"
  },
  "toc": {
   "base_numbering": 1,
   "nav_menu": {},
   "number_sections": true,
   "sideBar": true,
   "skip_h1_title": false,
   "title_cell": "Table of Contents",
   "title_sidebar": "Contents",
   "toc_cell": false,
   "toc_position": {},
   "toc_section_display": true,
   "toc_window_display": false
  },
  "varInspector": {
   "cols": {
    "lenName": 16,
    "lenType": 16,
    "lenVar": 40
   },
   "kernels_config": {
    "python": {
     "delete_cmd_postfix": "",
     "delete_cmd_prefix": "del ",
     "library": "var_list.py",
     "varRefreshCmd": "print(var_dic_list())"
    },
    "r": {
     "delete_cmd_postfix": ") ",
     "delete_cmd_prefix": "rm(",
     "library": "var_list.r",
     "varRefreshCmd": "cat(var_dic_list()) "
    }
   },
   "types_to_exclude": [
    "module",
    "function",
    "builtin_function_or_method",
    "instance",
    "_Feature"
   ],
   "window_display": false
  }
 },
 "nbformat": 4,
 "nbformat_minor": 5
}
